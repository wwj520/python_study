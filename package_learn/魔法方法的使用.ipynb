{
 "cells": [
  {
   "metadata": {},
   "cell_type": "markdown",
   "source": [
    "####  __hash__()\n",
    "- 如果一个类定义了__eq__方法，那么它也应该定义__hash__方法，以确保对象在集合和字典中能够正确地进行比较和去重。\n",
    "- 如果一个类没有定义__hash__方法，那么它的实例将不可哈希（即不能用作集合的元素或字典的键）"
   ],
   "id": "64864334db1f022d"
  },
  {
   "metadata": {
    "ExecuteTime": {
     "end_time": "2024-09-06T11:05:57.523724Z",
     "start_time": "2024-09-06T11:05:57.510413Z"
    }
   },
   "cell_type": "code",
   "source": [
    "# 1.添加对象到集合（set）中 Python会调用该对象的__hash__方法来获取其哈希值。集合使用哈希值来快速查找和去重。\n",
    "class MyClass:\n",
    "    def __hash__(self):\n",
    "        print(\"进入hash...\")\n",
    "        return hash(self.__class__)\n",
    "obj = MyClass()\n",
    "my_set = {obj}  # 这里会调用 obj.__hash__()"
   ],
   "id": "d65266b5799bc4c9",
   "outputs": [],
   "execution_count": 5
  },
  {
   "metadata": {
    "ExecuteTime": {
     "end_time": "2024-09-06T10:54:52.029541Z",
     "start_time": "2024-09-06T10:54:52.011247Z"
    }
   },
   "cell_type": "code",
   "source": [
    "# 2. 用作字典的键（dict）\n",
    "class MyClass:\n",
    "    def __hash__(self):\n",
    "        print(\"进入hash2...\")\n",
    "        return hash(self.__class__)\n",
    "obj = MyClass()\n",
    "my_dict = {obj: \"hello\"}"
   ],
   "id": "927aaf7b955712c5",
   "outputs": [
    {
     "name": "stdout",
     "output_type": "stream",
     "text": [
      "进入hash2...\n"
     ]
    }
   ],
   "execution_count": 4
  },
  {
   "metadata": {
    "ExecuteTime": {
     "end_time": "2024-09-06T11:08:51.556851Z",
     "start_time": "2024-09-06T11:08:51.541749Z"
    }
   },
   "cell_type": "code",
   "source": [
    "# 3. 使用hash()函数\n",
    "# 当你直接调用内置的hash()函数时，Python会调用对象的__hash__方法来获取其哈希值。\n",
    "class MyClass:\n",
    "    \n",
    "    def __hash__(self):\n",
    "        print(\"进入hash3...\")\n",
    "        return hash(self.__class__)\n",
    "\n",
    "obj = MyClass()\n",
    "hash(obj)"
   ],
   "id": "e5cae6e2d18bd2a4",
   "outputs": [
    {
     "name": "stdout",
     "output_type": "stream",
     "text": [
      "进入hash3...\n"
     ]
    },
    {
     "data": {
      "text/plain": [
       "86295269366"
      ]
     },
     "execution_count": 8,
     "metadata": {},
     "output_type": "execute_result"
    }
   ],
   "execution_count": 8
  },
  {
   "metadata": {
    "ExecuteTime": {
     "end_time": "2024-09-06T11:13:26.018822Z",
     "start_time": "2024-09-06T11:13:26.000822Z"
    }
   },
   "cell_type": "code",
   "source": [
    "# 4. 使用frozenset()  Python会调用集合中每个元素的__hash__方法来获取其哈希值。\n",
    "class MyClass:\n",
    "    def __hash__(self):\n",
    "        print(\"进入hash4...\")\n",
    "        return hash(self.__class__)\n",
    "obj = MyClass()\n",
    "frozenset([obj])\n"
   ],
   "id": "30bcaf59fe75c31",
   "outputs": [
    {
     "name": "stdout",
     "output_type": "stream",
     "text": [
      "进入hash4...\n"
     ]
    },
    {
     "data": {
      "text/plain": [
       "frozenset({<__main__.MyClass at 0x1417a412d00>})"
      ]
     },
     "execution_count": 11,
     "metadata": {},
     "output_type": "execute_result"
    }
   ],
   "execution_count": 11
  },
  {
   "metadata": {},
   "cell_type": "code",
   "outputs": [],
   "execution_count": null,
   "source": "",
   "id": "616a2fe56d943f65"
  }
 ],
 "metadata": {
  "kernelspec": {
   "display_name": "Python 3",
   "language": "python",
   "name": "python3"
  },
  "language_info": {
   "codemirror_mode": {
    "name": "ipython",
    "version": 2
   },
   "file_extension": ".py",
   "mimetype": "text/x-python",
   "name": "python",
   "nbconvert_exporter": "python",
   "pygments_lexer": "ipython2",
   "version": "2.7.6"
  }
 },
 "nbformat": 4,
 "nbformat_minor": 5
}
